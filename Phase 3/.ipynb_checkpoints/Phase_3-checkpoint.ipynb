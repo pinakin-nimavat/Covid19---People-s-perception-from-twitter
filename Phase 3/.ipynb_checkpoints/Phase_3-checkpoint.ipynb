{
 "cells": [
  {
   "cell_type": "code",
   "execution_count": 1,
   "metadata": {
    "colab": {
     "base_uri": "https://localhost:8080/"
    },
    "id": "kLB3XOdtT_NA",
    "outputId": "de1a1771-2252-4122-f0e9-419df9f479e8"
   },
   "outputs": [
    {
     "name": "stderr",
     "output_type": "stream",
     "text": [
      "[nltk_data] Downloading collection 'popular'\n",
      "[nltk_data]    | \n",
      "[nltk_data]    | Downloading package cmudict to\n",
      "[nltk_data]    |     /Users/pinakinnimavat/nltk_data...\n",
      "[nltk_data]    |   Package cmudict is already up-to-date!\n",
      "[nltk_data]    | Downloading package gazetteers to\n",
      "[nltk_data]    |     /Users/pinakinnimavat/nltk_data...\n",
      "[nltk_data]    |   Package gazetteers is already up-to-date!\n",
      "[nltk_data]    | Downloading package genesis to\n",
      "[nltk_data]    |     /Users/pinakinnimavat/nltk_data...\n",
      "[nltk_data]    |   Package genesis is already up-to-date!\n",
      "[nltk_data]    | Downloading package gutenberg to\n",
      "[nltk_data]    |     /Users/pinakinnimavat/nltk_data...\n",
      "[nltk_data]    |   Package gutenberg is already up-to-date!\n",
      "[nltk_data]    | Downloading package inaugural to\n",
      "[nltk_data]    |     /Users/pinakinnimavat/nltk_data...\n",
      "[nltk_data]    |   Package inaugural is already up-to-date!\n",
      "[nltk_data]    | Downloading package movie_reviews to\n",
      "[nltk_data]    |     /Users/pinakinnimavat/nltk_data...\n",
      "[nltk_data]    |   Unzipping corpora/movie_reviews.zip.\n",
      "[nltk_data]    | Downloading package names to\n",
      "[nltk_data]    |     /Users/pinakinnimavat/nltk_data...\n",
      "[nltk_data]    |   Package names is already up-to-date!\n",
      "[nltk_data]    | Downloading package shakespeare to\n",
      "[nltk_data]    |     /Users/pinakinnimavat/nltk_data...\n",
      "[nltk_data]    |   Package shakespeare is already up-to-date!\n",
      "[nltk_data]    | Downloading package stopwords to\n",
      "[nltk_data]    |     /Users/pinakinnimavat/nltk_data...\n",
      "[nltk_data]    |   Package stopwords is already up-to-date!\n",
      "[nltk_data]    | Downloading package treebank to\n",
      "[nltk_data]    |     /Users/pinakinnimavat/nltk_data...\n",
      "[nltk_data]    |   Package treebank is already up-to-date!\n",
      "[nltk_data]    | Downloading package twitter_samples to\n",
      "[nltk_data]    |     /Users/pinakinnimavat/nltk_data...\n",
      "[nltk_data]    |   Package twitter_samples is already up-to-date!\n",
      "[nltk_data]    | Downloading package omw to\n",
      "[nltk_data]    |     /Users/pinakinnimavat/nltk_data...\n",
      "[nltk_data]    |   Package omw is already up-to-date!\n",
      "[nltk_data]    | Downloading package omw-1.4 to\n",
      "[nltk_data]    |     /Users/pinakinnimavat/nltk_data...\n",
      "[nltk_data]    |   Package omw-1.4 is already up-to-date!\n",
      "[nltk_data]    | Downloading package wordnet to\n",
      "[nltk_data]    |     /Users/pinakinnimavat/nltk_data...\n",
      "[nltk_data]    |   Package wordnet is already up-to-date!\n",
      "[nltk_data]    | Downloading package wordnet2021 to\n",
      "[nltk_data]    |     /Users/pinakinnimavat/nltk_data...\n",
      "[nltk_data]    |   Package wordnet2021 is already up-to-date!\n",
      "[nltk_data]    | Downloading package wordnet31 to\n",
      "[nltk_data]    |     /Users/pinakinnimavat/nltk_data...\n",
      "[nltk_data]    |   Package wordnet31 is already up-to-date!\n",
      "[nltk_data]    | Downloading package wordnet_ic to\n",
      "[nltk_data]    |     /Users/pinakinnimavat/nltk_data...\n",
      "[nltk_data]    |   Package wordnet_ic is already up-to-date!\n",
      "[nltk_data]    | Downloading package words to\n",
      "[nltk_data]    |     /Users/pinakinnimavat/nltk_data...\n",
      "[nltk_data]    |   Package words is already up-to-date!\n",
      "[nltk_data]    | Downloading package maxent_ne_chunker to\n",
      "[nltk_data]    |     /Users/pinakinnimavat/nltk_data...\n",
      "[nltk_data]    |   Package maxent_ne_chunker is already up-to-date!\n",
      "[nltk_data]    | Downloading package punkt to\n",
      "[nltk_data]    |     /Users/pinakinnimavat/nltk_data...\n",
      "[nltk_data]    |   Package punkt is already up-to-date!\n",
      "[nltk_data]    | Downloading package snowball_data to\n",
      "[nltk_data]    |     /Users/pinakinnimavat/nltk_data...\n",
      "[nltk_data]    |   Package snowball_data is already up-to-date!\n",
      "[nltk_data]    | Downloading package averaged_perceptron_tagger to\n",
      "[nltk_data]    |     /Users/pinakinnimavat/nltk_data...\n",
      "[nltk_data]    |   Package averaged_perceptron_tagger is already up-\n",
      "[nltk_data]    |       to-date!\n",
      "[nltk_data]    | \n",
      "[nltk_data]  Done downloading collection popular\n"
     ]
    },
    {
     "data": {
      "text/plain": [
       "True"
      ]
     },
     "execution_count": 1,
     "metadata": {},
     "output_type": "execute_result"
    }
   ],
   "source": [
    "import nltk\n",
    "nltk.download(\"popular\")"
   ]
  },
  {
   "cell_type": "code",
   "execution_count": 2,
   "metadata": {
    "colab": {
     "base_uri": "https://localhost:8080/"
    },
    "id": "Y10GV77Buxfn",
    "outputId": "29afb2fd-35f9-4900-ca3b-146b2ca5bb5f"
   },
   "outputs": [
    {
     "name": "stdout",
     "output_type": "stream",
     "text": [
      "Requirement already satisfied: langdetect in /Users/pinakinnimavat/miniforge3/lib/python3.9/site-packages (1.0.9)\n",
      "Requirement already satisfied: six in /Users/pinakinnimavat/miniforge3/lib/python3.9/site-packages (from langdetect) (1.15.0)\n",
      "\u001b[33mWARNING: Error parsing requirements for pybind11: [Errno 2] No such file or directory: '/Users/pinakinnimavat/miniforge3/lib/python3.9/site-packages/pybind11-2.10.0.dist-info/METADATA'\u001b[0m\u001b[33m\n",
      "\u001b[0m"
     ]
    }
   ],
   "source": [
    "!pip install langdetect"
   ]
  },
  {
   "cell_type": "code",
   "execution_count": 3,
   "metadata": {},
   "outputs": [
    {
     "name": "stdout",
     "output_type": "stream",
     "text": [
      "Requirement already satisfied: wordcloud in /Users/pinakinnimavat/miniforge3/lib/python3.9/site-packages (1.8.2.2)\n",
      "Requirement already satisfied: numpy>=1.6.1 in /Users/pinakinnimavat/miniforge3/lib/python3.9/site-packages (from wordcloud) (1.23.1)\n",
      "Requirement already satisfied: pillow in /Users/pinakinnimavat/miniforge3/lib/python3.9/site-packages (from wordcloud) (9.1.0)\n",
      "Requirement already satisfied: matplotlib in /Users/pinakinnimavat/miniforge3/lib/python3.9/site-packages (from wordcloud) (3.5.2)\n",
      "Requirement already satisfied: python-dateutil>=2.7 in /Users/pinakinnimavat/miniforge3/lib/python3.9/site-packages (from matplotlib->wordcloud) (2.8.2)\n",
      "Requirement already satisfied: kiwisolver>=1.0.1 in /Users/pinakinnimavat/miniforge3/lib/python3.9/site-packages (from matplotlib->wordcloud) (1.4.2)\n",
      "Requirement already satisfied: fonttools>=4.22.0 in /Users/pinakinnimavat/miniforge3/lib/python3.9/site-packages (from matplotlib->wordcloud) (4.33.3)\n",
      "Requirement already satisfied: cycler>=0.10 in /Users/pinakinnimavat/miniforge3/lib/python3.9/site-packages (from matplotlib->wordcloud) (0.11.0)\n",
      "Requirement already satisfied: pyparsing>=2.2.1 in /Users/pinakinnimavat/miniforge3/lib/python3.9/site-packages (from matplotlib->wordcloud) (3.0.8)\n",
      "Requirement already satisfied: packaging>=20.0 in /Users/pinakinnimavat/miniforge3/lib/python3.9/site-packages (from matplotlib->wordcloud) (21.3)\n",
      "Requirement already satisfied: six>=1.5 in /Users/pinakinnimavat/miniforge3/lib/python3.9/site-packages (from python-dateutil>=2.7->matplotlib->wordcloud) (1.15.0)\n",
      "\u001b[33mWARNING: Error parsing requirements for pybind11: [Errno 2] No such file or directory: '/Users/pinakinnimavat/miniforge3/lib/python3.9/site-packages/pybind11-2.10.0.dist-info/METADATA'\u001b[0m\u001b[33m\n",
      "\u001b[0m"
     ]
    }
   ],
   "source": [
    "! pip install wordcloud"
   ]
  },
  {
   "cell_type": "code",
   "execution_count": 4,
   "metadata": {},
   "outputs": [
    {
     "name": "stdout",
     "output_type": "stream",
     "text": [
      "Requirement already satisfied: xgboost in /Users/pinakinnimavat/miniforge3/lib/python3.9/site-packages (1.6.2)\n",
      "Requirement already satisfied: numpy in /Users/pinakinnimavat/miniforge3/lib/python3.9/site-packages (from xgboost) (1.23.1)\n",
      "Requirement already satisfied: scipy in /Users/pinakinnimavat/miniforge3/lib/python3.9/site-packages (from xgboost) (1.9.0)\n",
      "\u001b[33mWARNING: Error parsing requirements for pybind11: [Errno 2] No such file or directory: '/Users/pinakinnimavat/miniforge3/lib/python3.9/site-packages/pybind11-2.10.0.dist-info/METADATA'\u001b[0m\u001b[33m\n",
      "\u001b[0m"
     ]
    }
   ],
   "source": [
    "! pip install xgboost"
   ]
  },
  {
   "cell_type": "code",
   "execution_count": 5,
   "metadata": {
    "colab": {
     "base_uri": "https://localhost:8080/"
    },
    "id": "Rq_79Ml3LfmN",
    "outputId": "57345be3-cbe8-4550-aa55-d9e70dd72140"
   },
   "outputs": [
    {
     "name": "stderr",
     "output_type": "stream",
     "text": [
      "[nltk_data] Downloading package vader_lexicon to\n",
      "[nltk_data]     /Users/pinakinnimavat/nltk_data...\n",
      "[nltk_data]   Package vader_lexicon is already up-to-date!\n"
     ]
    }
   ],
   "source": [
    "import pandas as pd\n",
    "import collections\n",
    "import matplotlib.pyplot as plt\n",
    "import seaborn as sns\n",
    "import wordcloud\n",
    "import re\n",
    "import nltk\n",
    "import spacy\n",
    "from sklearn import feature_extraction\n",
    "import random\n",
    "import langdetect\n",
    "from bs4 import BeautifulSoup\n",
    "from sklearn.ensemble import GradientBoostingClassifier\n",
    "import nltk\n",
    "nltk.download(\"vader_lexicon\")\n",
    "from nltk.sentiment.vader import SentimentIntensityAnalyzer\n",
    "import gensim\n",
    "import gensim.downloader as gensim_api\n",
    "from sklearn import feature_extraction, manifold\n",
    "from sklearn.preprocessing import normalize\n",
    "from sklearn.model_selection import train_test_split\n",
    "from xgboost import XGBClassifier\n",
    "from sklearn.metrics import accuracy_score, classification_report\n",
    "from sklearn.feature_extraction.text import TfidfVectorizer"
   ]
  },
  {
   "cell_type": "code",
   "execution_count": 6,
   "metadata": {
    "id": "kzFR0fB7NhX9"
   },
   "outputs": [],
   "source": [
    "random.seed(7)"
   ]
  },
  {
   "cell_type": "code",
   "execution_count": 7,
   "metadata": {
    "id": "2_LuVPGmMdjs"
   },
   "outputs": [],
   "source": [
    "df1 = pd.read_csv(\"final_twitter_topic_lockdown.csv\")\n",
    "df2 = pd.read_csv(\"final_twitter_topic_masking_and_distancing.csv\")\n",
    "df3 = pd.read_csv(\"final_twitter_topic_vac.csv\")"
   ]
  },
  {
   "cell_type": "code",
   "execution_count": 8,
   "metadata": {
    "colab": {
     "base_uri": "https://localhost:8080/"
    },
    "id": "olblDtWPM2Hl",
    "outputId": "1a50f8c8-bbac-4ff5-a8c2-e8f597697bf8"
   },
   "outputs": [
    {
     "data": {
      "text/plain": [
       "False    1157\n",
       "True       43\n",
       "Name: label, dtype: int64"
      ]
     },
     "execution_count": 8,
     "metadata": {},
     "output_type": "execute_result"
    }
   ],
   "source": [
    "df1.label.value_counts()"
   ]
  },
  {
   "cell_type": "code",
   "execution_count": 9,
   "metadata": {
    "colab": {
     "base_uri": "https://localhost:8080/"
    },
    "id": "kzbAwrUVM5fK",
    "outputId": "3d984a1b-aa9b-4d00-cc7c-91150db8ec3c"
   },
   "outputs": [
    {
     "data": {
      "text/plain": [
       "False    953\n",
       "True     247\n",
       "Name: label, dtype: int64"
      ]
     },
     "execution_count": 9,
     "metadata": {},
     "output_type": "execute_result"
    }
   ],
   "source": [
    "df2.label.value_counts()"
   ]
  },
  {
   "cell_type": "code",
   "execution_count": 10,
   "metadata": {
    "colab": {
     "base_uri": "https://localhost:8080/"
    },
    "id": "3uEnbOmAM69M",
    "outputId": "355ad45e-6a85-4cd4-b68f-9933b387dfb6"
   },
   "outputs": [
    {
     "data": {
      "text/plain": [
       "True     698\n",
       "False    502\n",
       "Name: label, dtype: int64"
      ]
     },
     "execution_count": 10,
     "metadata": {},
     "output_type": "execute_result"
    }
   ],
   "source": [
    "df3.label.value_counts()"
   ]
  },
  {
   "cell_type": "code",
   "execution_count": 11,
   "metadata": {
    "colab": {
     "base_uri": "https://localhost:8080/",
     "height": 424
    },
    "id": "jB6BesFoM8M6",
    "outputId": "4940ae82-36c8-4c73-d5ae-c87c2271f6e0"
   },
   "outputs": [
    {
     "data": {
      "text/html": [
       "<div>\n",
       "<style scoped>\n",
       "    .dataframe tbody tr th:only-of-type {\n",
       "        vertical-align: middle;\n",
       "    }\n",
       "\n",
       "    .dataframe tbody tr th {\n",
       "        vertical-align: top;\n",
       "    }\n",
       "\n",
       "    .dataframe thead th {\n",
       "        text-align: right;\n",
       "    }\n",
       "</style>\n",
       "<table border=\"1\" class=\"dataframe\">\n",
       "  <thead>\n",
       "    <tr style=\"text-align: right;\">\n",
       "      <th></th>\n",
       "      <th>Unnamed: 0</th>\n",
       "      <th>text</th>\n",
       "      <th>label</th>\n",
       "    </tr>\n",
       "  </thead>\n",
       "  <tbody>\n",
       "    <tr>\n",
       "      <th>0</th>\n",
       "      <td>0</td>\n",
       "      <td>Putin After Announcing #CovidVaccine #Russian ...</td>\n",
       "      <td>True</td>\n",
       "    </tr>\n",
       "    <tr>\n",
       "      <th>1</th>\n",
       "      <td>1</td>\n",
       "      <td>Courtesy: WA! #WhatsApp #COVID #CovidVaccine h...</td>\n",
       "      <td>True</td>\n",
       "    </tr>\n",
       "    <tr>\n",
       "      <th>2</th>\n",
       "      <td>2</td>\n",
       "      <td>4 of the vaccines Jared bought are expected to...</td>\n",
       "      <td>True</td>\n",
       "    </tr>\n",
       "    <tr>\n",
       "      <th>3</th>\n",
       "      <td>3</td>\n",
       "      <td>One day you will realize CDC Guidelines magica...</td>\n",
       "      <td>False</td>\n",
       "    </tr>\n",
       "    <tr>\n",
       "      <th>4</th>\n",
       "      <td>4</td>\n",
       "      <td>Im far from lying.  Current CDC guidelines is ...</td>\n",
       "      <td>True</td>\n",
       "    </tr>\n",
       "    <tr>\n",
       "      <th>...</th>\n",
       "      <td>...</td>\n",
       "      <td>...</td>\n",
       "      <td>...</td>\n",
       "    </tr>\n",
       "    <tr>\n",
       "      <th>1195</th>\n",
       "      <td>1195</td>\n",
       "      <td>.Sprint To Develop A #COVIDVaccine – // https:...</td>\n",
       "      <td>True</td>\n",
       "    </tr>\n",
       "    <tr>\n",
       "      <th>1196</th>\n",
       "      <td>1196</td>\n",
       "      <td>Here in the U.S. some localities have brought ...</td>\n",
       "      <td>False</td>\n",
       "    </tr>\n",
       "    <tr>\n",
       "      <th>1197</th>\n",
       "      <td>1197</td>\n",
       "      <td>Sanitizer &amp;amp; Mask Manufacturers After Russi...</td>\n",
       "      <td>True</td>\n",
       "    </tr>\n",
       "    <tr>\n",
       "      <th>1198</th>\n",
       "      <td>1198</td>\n",
       "      <td>We are following all CDC guidelines through a ...</td>\n",
       "      <td>False</td>\n",
       "    </tr>\n",
       "    <tr>\n",
       "      <th>1199</th>\n",
       "      <td>1199</td>\n",
       "      <td>People be losing hopes on covid vaccine like i...</td>\n",
       "      <td>True</td>\n",
       "    </tr>\n",
       "  </tbody>\n",
       "</table>\n",
       "<p>1200 rows × 3 columns</p>\n",
       "</div>"
      ],
      "text/plain": [
       "      Unnamed: 0                                               text  label\n",
       "0              0  Putin After Announcing #CovidVaccine #Russian ...   True\n",
       "1              1  Courtesy: WA! #WhatsApp #COVID #CovidVaccine h...   True\n",
       "2              2  4 of the vaccines Jared bought are expected to...   True\n",
       "3              3  One day you will realize CDC Guidelines magica...  False\n",
       "4              4  Im far from lying.  Current CDC guidelines is ...   True\n",
       "...          ...                                                ...    ...\n",
       "1195        1195  .Sprint To Develop A #COVIDVaccine – // https:...   True\n",
       "1196        1196  Here in the U.S. some localities have brought ...  False\n",
       "1197        1197  Sanitizer &amp; Mask Manufacturers After Russi...   True\n",
       "1198        1198  We are following all CDC guidelines through a ...  False\n",
       "1199        1199  People be losing hopes on covid vaccine like i...   True\n",
       "\n",
       "[1200 rows x 3 columns]"
      ]
     },
     "execution_count": 11,
     "metadata": {},
     "output_type": "execute_result"
    }
   ],
   "source": [
    "df3"
   ]
  },
  {
   "cell_type": "code",
   "execution_count": 12,
   "metadata": {
    "id": "SRlIk8aHNGMl"
   },
   "outputs": [],
   "source": [
    "df = df3.drop(\"Unnamed: 0\", axis = 1)"
   ]
  },
  {
   "cell_type": "code",
   "execution_count": 13,
   "metadata": {
    "id": "DrNvNfGtTUy8"
   },
   "outputs": [],
   "source": [
    "lst_stopwords = nltk.corpus.stopwords.words(\"english\")"
   ]
  },
  {
   "cell_type": "code",
   "execution_count": 14,
   "metadata": {
    "id": "TOJB_i1hOyCd"
   },
   "outputs": [],
   "source": [
    "def text_preprocess(text, flag_re=bool, flag_stemm=bool, flag_lemm=bool, lst_stopwords=None):\n",
    "\n",
    "  #remove html tags \n",
    "    soup = BeautifulSoup(text,'lxml')\n",
    "    html_free = soup.get_text()\n",
    "  \n",
    "  # covert to lowercase and remove punctuations and charachters and strip\n",
    "    if flag_re == True:\n",
    "        text = re.sub(r'[^\\w\\s]',\"\",str(html_free).lower().strip())\n",
    "\n",
    "  #tokenize\n",
    "    txt = text.split()\n",
    "\n",
    "  #remove stopwords\n",
    "    if lst_stopwords is not None:\n",
    "        txt = [word for word in txt if word not in lst_stopwords]\n",
    "\n",
    "  #stemming\n",
    "    if flag_stemm == True:\n",
    "        ps = nltk.stem.porter.PorterStemmer()\n",
    "        txt = [ps.stem(word) for word in txt]\n",
    "\n",
    "  #lemmatisation \n",
    "    if flag_lemm == True:\n",
    "        lem = nltk.stem.wordnet.WordNetLemmatizer()\n",
    "        txt = [lem.lemmatize(word) for word in txt]\n",
    "\n",
    "  #back to string\n",
    "    text = \" \".join(txt)\n",
    "    return text"
   ]
  },
  {
   "cell_type": "markdown",
   "metadata": {
    "id": "Ax7XQ_QPKGdF"
   },
   "source": [
    "# Baseline model - Primary Dataset"
   ]
  },
  {
   "cell_type": "code",
   "execution_count": 15,
   "metadata": {
    "id": "rzrGG0p0KKSa"
   },
   "outputs": [
    {
     "name": "stderr",
     "output_type": "stream",
     "text": [
      "/Users/pinakinnimavat/miniforge3/lib/python3.9/site-packages/bs4/__init__.py:435: MarkupResemblesLocatorWarning: The input looks more like a filename than markup. You may want to open this file and pass the filehandle into Beautiful Soup.\n",
      "  warnings.warn(\n"
     ]
    }
   ],
   "source": [
    "df_base = df.copy()\n",
    "df_base[\"text\"] = df_base[\"text\"].apply(lambda x: text_preprocess(x, True, False, True, lst_stopwords))"
   ]
  },
  {
   "cell_type": "code",
   "execution_count": 16,
   "metadata": {
    "colab": {
     "base_uri": "https://localhost:8080/",
     "height": 424
    },
    "id": "fwvIbOTBMrtc",
    "outputId": "74c82fce-5dd0-41b4-8f3b-8e85bab9b56c"
   },
   "outputs": [
    {
     "data": {
      "text/html": [
       "<div>\n",
       "<style scoped>\n",
       "    .dataframe tbody tr th:only-of-type {\n",
       "        vertical-align: middle;\n",
       "    }\n",
       "\n",
       "    .dataframe tbody tr th {\n",
       "        vertical-align: top;\n",
       "    }\n",
       "\n",
       "    .dataframe thead th {\n",
       "        text-align: right;\n",
       "    }\n",
       "</style>\n",
       "<table border=\"1\" class=\"dataframe\">\n",
       "  <thead>\n",
       "    <tr style=\"text-align: right;\">\n",
       "      <th></th>\n",
       "      <th>text</th>\n",
       "      <th>label</th>\n",
       "    </tr>\n",
       "  </thead>\n",
       "  <tbody>\n",
       "    <tr>\n",
       "      <th>0</th>\n",
       "      <td>putin announcing covidvaccine russian httpstco...</td>\n",
       "      <td>True</td>\n",
       "    </tr>\n",
       "    <tr>\n",
       "      <th>1</th>\n",
       "      <td>courtesy wa whatsapp covid covidvaccine httpst...</td>\n",
       "      <td>True</td>\n",
       "    </tr>\n",
       "    <tr>\n",
       "      <th>2</th>\n",
       "      <td>4 vaccine jared bought expected fail trump ref...</td>\n",
       "      <td>True</td>\n",
       "    </tr>\n",
       "    <tr>\n",
       "      <th>3</th>\n",
       "      <td>one day realize cdc guideline magically aligne...</td>\n",
       "      <td>False</td>\n",
       "    </tr>\n",
       "    <tr>\n",
       "      <th>4</th>\n",
       "      <td>im far lying current cdc guideline wearing mas...</td>\n",
       "      <td>True</td>\n",
       "    </tr>\n",
       "    <tr>\n",
       "      <th>...</th>\n",
       "      <td>...</td>\n",
       "      <td>...</td>\n",
       "    </tr>\n",
       "    <tr>\n",
       "      <th>1195</th>\n",
       "      <td>sprint develop covidvaccine httpstco8mp0d05mqn</td>\n",
       "      <td>True</td>\n",
       "    </tr>\n",
       "    <tr>\n",
       "      <th>1196</th>\n",
       "      <td>u locality brought back mask mandate several r...</td>\n",
       "      <td>False</td>\n",
       "    </tr>\n",
       "    <tr>\n",
       "      <th>1197</th>\n",
       "      <td>sanitizer mask manufacturer russian vaccine an...</td>\n",
       "      <td>True</td>\n",
       "    </tr>\n",
       "    <tr>\n",
       "      <th>1198</th>\n",
       "      <td>following cdc guideline combination regular ha...</td>\n",
       "      <td>False</td>\n",
       "    </tr>\n",
       "    <tr>\n",
       "      <th>1199</th>\n",
       "      <td>people losing hope covid vaccine like 4g kashm...</td>\n",
       "      <td>True</td>\n",
       "    </tr>\n",
       "  </tbody>\n",
       "</table>\n",
       "<p>1200 rows × 2 columns</p>\n",
       "</div>"
      ],
      "text/plain": [
       "                                                   text  label\n",
       "0     putin announcing covidvaccine russian httpstco...   True\n",
       "1     courtesy wa whatsapp covid covidvaccine httpst...   True\n",
       "2     4 vaccine jared bought expected fail trump ref...   True\n",
       "3     one day realize cdc guideline magically aligne...  False\n",
       "4     im far lying current cdc guideline wearing mas...   True\n",
       "...                                                 ...    ...\n",
       "1195     sprint develop covidvaccine httpstco8mp0d05mqn   True\n",
       "1196  u locality brought back mask mandate several r...  False\n",
       "1197  sanitizer mask manufacturer russian vaccine an...   True\n",
       "1198  following cdc guideline combination regular ha...  False\n",
       "1199  people losing hope covid vaccine like 4g kashm...   True\n",
       "\n",
       "[1200 rows x 2 columns]"
      ]
     },
     "execution_count": 16,
     "metadata": {},
     "output_type": "execute_result"
    }
   ],
   "source": [
    "df_base"
   ]
  },
  {
   "cell_type": "code",
   "execution_count": 17,
   "metadata": {
    "id": "kFsSqpLvOkx7"
   },
   "outputs": [],
   "source": [
    "x_base = df_base[\"text\"]\n",
    "y_base = df_base[\"label\"]"
   ]
  },
  {
   "cell_type": "code",
   "execution_count": 18,
   "metadata": {
    "id": "IAzQk39VMhdK"
   },
   "outputs": [],
   "source": [
    "x_train_bs, x_test_bs, y_train_bs, y_test_bs = train_test_split(x_base, y_base, test_size = 0.2) "
   ]
  },
  {
   "cell_type": "code",
   "execution_count": 19,
   "metadata": {
    "id": "DFtu2yC_MXDE"
   },
   "outputs": [],
   "source": [
    "base_tfidf = TfidfVectorizer()\n",
    "x_train_bs = base_tfidf.fit_transform(x_train_bs)"
   ]
  },
  {
   "cell_type": "code",
   "execution_count": 20,
   "metadata": {
    "id": "TezW76oTPiJ1"
   },
   "outputs": [],
   "source": [
    "x_test_bs = base_tfidf.transform(x_test_bs)"
   ]
  },
  {
   "cell_type": "code",
   "execution_count": 21,
   "metadata": {
    "colab": {
     "base_uri": "https://localhost:8080/"
    },
    "id": "pC0poHx2Pr4P",
    "outputId": "4668ca6c-2e0a-48d9-922a-cf4db9db6610"
   },
   "outputs": [
    {
     "name": "stdout",
     "output_type": "stream",
     "text": [
      "Accuracy is:  0.8958333333333334\n",
      "Classification report:               precision    recall  f1-score   support\n",
      "\n",
      "       False       0.84      0.94      0.89       103\n",
      "        True       0.95      0.86      0.90       137\n",
      "\n",
      "    accuracy                           0.90       240\n",
      "   macro avg       0.89      0.90      0.90       240\n",
      "weighted avg       0.90      0.90      0.90       240\n",
      "\n"
     ]
    }
   ],
   "source": [
    "gbc_bs = GradientBoostingClassifier()\n",
    "model1_bs = gbc_bs.fit(x_train_bs,y_train_bs)\n",
    "pred_1_bs = model1_bs.predict(x_test_bs)\n",
    "print(\"Accuracy is: \", accuracy_score(y_test_bs,pred_1_bs))\n",
    "print(\"Classification report:\", classification_report(y_test_bs, pred_1_bs))"
   ]
  },
  {
   "cell_type": "markdown",
   "metadata": {
    "id": "HY_D-WQhQmDp"
   },
   "source": [
    "# Baseline Model - Secondary Dataset"
   ]
  },
  {
   "cell_type": "code",
   "execution_count": 22,
   "metadata": {
    "id": "opfbcYZYQlx1"
   },
   "outputs": [],
   "source": [
    "df_secondary = pd.read_csv(\"final_change_vaccination.csv\")\n",
    "df_secondary = df_secondary.drop(\"Unnamed: 0\", axis=1)"
   ]
  },
  {
   "cell_type": "code",
   "execution_count": 23,
   "metadata": {
    "colab": {
     "base_uri": "https://localhost:8080/"
    },
    "id": "KCykJzRARbDI",
    "outputId": "341b0a22-3740-4fb1-b7c3-3c9b17b8f879"
   },
   "outputs": [
    {
     "name": "stdout",
     "output_type": "stream",
     "text": [
      "Accuracy is:  0.9786666666666667\n",
      "Classification report:               precision    recall  f1-score   support\n",
      "\n",
      "       False       0.99      0.99      0.99      1463\n",
      "        True       0.60      0.41      0.48        37\n",
      "\n",
      "    accuracy                           0.98      1500\n",
      "   macro avg       0.79      0.70      0.74      1500\n",
      "weighted avg       0.98      0.98      0.98      1500\n",
      "\n"
     ]
    },
    {
     "name": "stderr",
     "output_type": "stream",
     "text": [
      "/Users/pinakinnimavat/miniforge3/lib/python3.9/site-packages/bs4/__init__.py:435: MarkupResemblesLocatorWarning: The input looks more like a filename than markup. You may want to open this file and pass the filehandle into Beautiful Soup.\n",
      "  warnings.warn(\n"
     ]
    }
   ],
   "source": [
    "df_secondary[\"text\"] = df_secondary[\"text\"].apply(lambda x: text_preprocess(x, True, False, True, lst_stopwords))\n",
    "\n",
    "x_secondary = df_secondary[\"text\"]\n",
    "y_secondary = df_secondary[\"label\"]\n",
    "\n",
    "secondary_tfidf = TfidfVectorizer()\n",
    "x_secondary = base_tfidf.transform(x_secondary)\n",
    "\n",
    "\n",
    "pred_secondary = model1_bs.predict(x_secondary)\n",
    "print(\"Accuracy is: \", accuracy_score(y_secondary,pred_secondary))\n",
    "print(\"Classification report:\", classification_report(y_secondary, pred_secondary))"
   ]
  },
  {
   "cell_type": "markdown",
   "metadata": {
    "id": "4yUtAMzYJ7ZV"
   },
   "source": [
    "# Feature Engineering and Model Training - Primary Dataset"
   ]
  },
  {
   "cell_type": "code",
   "execution_count": 24,
   "metadata": {
    "id": "yI4NY4bJWjD6"
   },
   "outputs": [],
   "source": [
    "df = pd.read_csv(\"final_twitter_topic_vac.csv\")\n",
    "df = df.drop(\"Unnamed: 0\", axis = 1)"
   ]
  },
  {
   "cell_type": "code",
   "execution_count": 25,
   "metadata": {
    "id": "CSglw0CtbEJX"
   },
   "outputs": [],
   "source": [
    "df[\"lang\"] = df[\"text\"].apply(lambda x: langdetect.detect(x) if x.strip() !=\"\"else\"\")"
   ]
  },
  {
   "cell_type": "code",
   "execution_count": 26,
   "metadata": {
    "id": "spn529zqRmYl"
   },
   "outputs": [
    {
     "name": "stderr",
     "output_type": "stream",
     "text": [
      "/Users/pinakinnimavat/miniforge3/lib/python3.9/site-packages/bs4/__init__.py:435: MarkupResemblesLocatorWarning: The input looks more like a filename than markup. You may want to open this file and pass the filehandle into Beautiful Soup.\n",
      "  warnings.warn(\n"
     ]
    }
   ],
   "source": [
    "df[\"text_clean\"] = df[\"text\"].apply(lambda x: text_preprocess(x, False, False, False, lst_stopwords))"
   ]
  },
  {
   "cell_type": "code",
   "execution_count": 27,
   "metadata": {
    "colab": {
     "base_uri": "https://localhost:8080/",
     "height": 380
    },
    "id": "rvUFuaefWQiY",
    "outputId": "3b006f49-7815-47c9-d595-776ea1aba1e5"
   },
   "outputs": [
    {
     "data": {
      "text/html": [
       "<div>\n",
       "<style scoped>\n",
       "    .dataframe tbody tr th:only-of-type {\n",
       "        vertical-align: middle;\n",
       "    }\n",
       "\n",
       "    .dataframe tbody tr th {\n",
       "        vertical-align: top;\n",
       "    }\n",
       "\n",
       "    .dataframe thead th {\n",
       "        text-align: right;\n",
       "    }\n",
       "</style>\n",
       "<table border=\"1\" class=\"dataframe\">\n",
       "  <thead>\n",
       "    <tr style=\"text-align: right;\">\n",
       "      <th></th>\n",
       "      <th>text</th>\n",
       "      <th>label</th>\n",
       "      <th>lang</th>\n",
       "      <th>text_clean</th>\n",
       "      <th>word_count</th>\n",
       "      <th>char_count</th>\n",
       "      <th>sentence_count</th>\n",
       "      <th>avg_word_length</th>\n",
       "      <th>avg_sen_len</th>\n",
       "    </tr>\n",
       "  </thead>\n",
       "  <tbody>\n",
       "    <tr>\n",
       "      <th>0</th>\n",
       "      <td>Putin After Announcing #CovidVaccine #Russian ...</td>\n",
       "      <td>True</td>\n",
       "      <td>en</td>\n",
       "      <td>Putin After Announcing #CovidVaccine #Russian ...</td>\n",
       "      <td>6</td>\n",
       "      <td>64</td>\n",
       "      <td>2</td>\n",
       "      <td>10.666667</td>\n",
       "      <td>3.0</td>\n",
       "    </tr>\n",
       "    <tr>\n",
       "      <th>1</th>\n",
       "      <td>Courtesy: WA! #WhatsApp #COVID #CovidVaccine h...</td>\n",
       "      <td>True</td>\n",
       "      <td>en</td>\n",
       "      <td>Courtesy: WA! #WhatsApp #COVID #CovidVaccine h...</td>\n",
       "      <td>6</td>\n",
       "      <td>63</td>\n",
       "      <td>2</td>\n",
       "      <td>10.500000</td>\n",
       "      <td>3.0</td>\n",
       "    </tr>\n",
       "    <tr>\n",
       "      <th>2</th>\n",
       "      <td>4 of the vaccines Jared bought are expected to...</td>\n",
       "      <td>True</td>\n",
       "      <td>en</td>\n",
       "      <td>4 vaccines Jared bought expected fail Trump re...</td>\n",
       "      <td>18</td>\n",
       "      <td>96</td>\n",
       "      <td>2</td>\n",
       "      <td>5.333333</td>\n",
       "      <td>9.0</td>\n",
       "    </tr>\n",
       "    <tr>\n",
       "      <th>3</th>\n",
       "      <td>One day you will realize CDC Guidelines magica...</td>\n",
       "      <td>False</td>\n",
       "      <td>en</td>\n",
       "      <td>One day realize CDC Guidelines magically align...</td>\n",
       "      <td>13</td>\n",
       "      <td>74</td>\n",
       "      <td>1</td>\n",
       "      <td>5.692308</td>\n",
       "      <td>13.0</td>\n",
       "    </tr>\n",
       "    <tr>\n",
       "      <th>4</th>\n",
       "      <td>Im far from lying.  Current CDC guidelines is ...</td>\n",
       "      <td>True</td>\n",
       "      <td>en</td>\n",
       "      <td>Im far lying. Current CDC guidelines wearing m...</td>\n",
       "      <td>21</td>\n",
       "      <td>93</td>\n",
       "      <td>3</td>\n",
       "      <td>4.428571</td>\n",
       "      <td>7.0</td>\n",
       "    </tr>\n",
       "  </tbody>\n",
       "</table>\n",
       "</div>"
      ],
      "text/plain": [
       "                                                text  label lang  \\\n",
       "0  Putin After Announcing #CovidVaccine #Russian ...   True   en   \n",
       "1  Courtesy: WA! #WhatsApp #COVID #CovidVaccine h...   True   en   \n",
       "2  4 of the vaccines Jared bought are expected to...   True   en   \n",
       "3  One day you will realize CDC Guidelines magica...  False   en   \n",
       "4  Im far from lying.  Current CDC guidelines is ...   True   en   \n",
       "\n",
       "                                          text_clean  word_count  char_count  \\\n",
       "0  Putin After Announcing #CovidVaccine #Russian ...           6          64   \n",
       "1  Courtesy: WA! #WhatsApp #COVID #CovidVaccine h...           6          63   \n",
       "2  4 vaccines Jared bought expected fail Trump re...          18          96   \n",
       "3  One day realize CDC Guidelines magically align...          13          74   \n",
       "4  Im far lying. Current CDC guidelines wearing m...          21          93   \n",
       "\n",
       "   sentence_count  avg_word_length  avg_sen_len  \n",
       "0               2        10.666667          3.0  \n",
       "1               2        10.500000          3.0  \n",
       "2               2         5.333333          9.0  \n",
       "3               1         5.692308         13.0  \n",
       "4               3         4.428571          7.0  "
      ]
     },
     "execution_count": 27,
     "metadata": {},
     "output_type": "execute_result"
    }
   ],
   "source": [
    "df[\"word_count\"] = df[\"text\"].apply(lambda x: len(str(x).split(\" \")))\n",
    "df[\"char_count\"] = df[\"text\"].apply(lambda x: sum(len(word) for word in str(x).split(\" \")))\n",
    "df[\"sentence_count\"] = df[\"text\"].apply(lambda x: len(str(x).split(\".\")))\n",
    "df[\"avg_word_length\"] = df[\"char_count\"] / df[\"word_count\"]\n",
    "df[\"avg_sen_len\"] = df[\"word_count\"] / df[\"sentence_count\"]\n",
    "df.head()"
   ]
  },
  {
   "cell_type": "code",
   "execution_count": 28,
   "metadata": {
    "colab": {
     "base_uri": "https://localhost:8080/",
     "height": 467
    },
    "id": "1tJTilP_aYOt",
    "outputId": "3f012930-8a0c-4c37-f863-72ea73f8aaf7"
   },
   "outputs": [
    {
     "name": "stderr",
     "output_type": "stream",
     "text": [
      "/Users/pinakinnimavat/miniforge3/lib/python3.9/site-packages/seaborn/distributions.py:2619: FutureWarning: `distplot` is a deprecated function and will be removed in a future version. Please adapt your code to use either `displot` (a figure-level function with similar flexibility) or `histplot` (an axes-level function for histograms).\n",
      "  warnings.warn(msg, FutureWarning)\n",
      "/Users/pinakinnimavat/miniforge3/lib/python3.9/site-packages/seaborn/distributions.py:2619: FutureWarning: `distplot` is a deprecated function and will be removed in a future version. Please adapt your code to use either `displot` (a figure-level function with similar flexibility) or `kdeplot` (an axes-level function for kernel density plots).\n",
      "  warnings.warn(msg, FutureWarning)\n",
      "/Users/pinakinnimavat/miniforge3/lib/python3.9/site-packages/seaborn/distributions.py:2619: FutureWarning: `distplot` is a deprecated function and will be removed in a future version. Please adapt your code to use either `displot` (a figure-level function with similar flexibility) or `histplot` (an axes-level function for histograms).\n",
      "  warnings.warn(msg, FutureWarning)\n",
      "/Users/pinakinnimavat/miniforge3/lib/python3.9/site-packages/seaborn/distributions.py:2619: FutureWarning: `distplot` is a deprecated function and will be removed in a future version. Please adapt your code to use either `displot` (a figure-level function with similar flexibility) or `kdeplot` (an axes-level function for kernel density plots).\n",
      "  warnings.warn(msg, FutureWarning)\n"
     ]
    },
    {
     "data": {
      "image/png": "[encoded data removed]",
      "text/plain": [
       "<Figure size 432x288 with 2 Axes>"
      ]
     },
     "metadata": {
      "needs_background": "light"
     },
     "output_type": "display_data"
    }
   ],
   "source": [
    "x, y = \"char_count\", \"label\"\n",
    "fig, ax = plt.subplots(nrows=1, ncols=2)\n",
    "fig.suptitle(x, fontsize=12)\n",
    "for i in df[y].unique():\n",
    "    sns.distplot(df[df[y]==i][x], hist=True, kde=False, \n",
    "                 bins=10, hist_kws={\"alpha\":0.8}, \n",
    "                 axlabel=\"histogram\", ax=ax[0])\n",
    "    sns.distplot(df[df[y]==i][x], hist=False, kde=True, \n",
    "                 kde_kws={\"shade\":True}, axlabel=\"density\",   \n",
    "                 ax=ax[1])\n",
    "ax[0].grid(True)\n",
    "ax[0].legend(df[y].unique())\n",
    "ax[1].grid(True)\n",
    "plt.show()"
   ]
  },
  {
   "cell_type": "code",
   "execution_count": 29,
   "metadata": {
    "id": "u9ehGvw-fDnd"
   },
   "outputs": [],
   "source": [
    "sd = SentimentIntensityAnalyzer()"
   ]
  },
  {
   "cell_type": "code",
   "execution_count": 30,
   "metadata": {
    "colab": {
     "base_uri": "https://localhost:8080/",
     "height": 536
    },
    "id": "ImWwz6aEfknu",
    "outputId": "eac43459-7544-4cf1-b0d6-cbb5ec129f11"
   },
   "outputs": [
    {
     "data": {
      "text/html": [
       "<div>\n",
       "<style scoped>\n",
       "    .dataframe tbody tr th:only-of-type {\n",
       "        vertical-align: middle;\n",
       "    }\n",
       "\n",
       "    .dataframe tbody tr th {\n",
       "        vertical-align: top;\n",
       "    }\n",
       "\n",
       "    .dataframe thead th {\n",
       "        text-align: right;\n",
       "    }\n",
       "</style>\n",
       "<table border=\"1\" class=\"dataframe\">\n",
       "  <thead>\n",
       "    <tr style=\"text-align: right;\">\n",
       "      <th></th>\n",
       "      <th>text</th>\n",
       "      <th>label</th>\n",
       "      <th>lang</th>\n",
       "      <th>text_clean</th>\n",
       "      <th>word_count</th>\n",
       "      <th>char_count</th>\n",
       "      <th>sentence_count</th>\n",
       "      <th>avg_word_length</th>\n",
       "      <th>avg_sen_len</th>\n",
       "      <th>scores</th>\n",
       "    </tr>\n",
       "  </thead>\n",
       "  <tbody>\n",
       "    <tr>\n",
       "      <th>0</th>\n",
       "      <td>Putin After Announcing #CovidVaccine #Russian ...</td>\n",
       "      <td>True</td>\n",
       "      <td>en</td>\n",
       "      <td>Putin After Announcing #CovidVaccine #Russian ...</td>\n",
       "      <td>6</td>\n",
       "      <td>64</td>\n",
       "      <td>2</td>\n",
       "      <td>10.666667</td>\n",
       "      <td>3.0</td>\n",
       "      <td>{'neg': 0.0, 'neu': 1.0, 'pos': 0.0, 'compound...</td>\n",
       "    </tr>\n",
       "    <tr>\n",
       "      <th>1</th>\n",
       "      <td>Courtesy: WA! #WhatsApp #COVID #CovidVaccine h...</td>\n",
       "      <td>True</td>\n",
       "      <td>en</td>\n",
       "      <td>Courtesy: WA! #WhatsApp #COVID #CovidVaccine h...</td>\n",
       "      <td>6</td>\n",
       "      <td>63</td>\n",
       "      <td>2</td>\n",
       "      <td>10.500000</td>\n",
       "      <td>3.0</td>\n",
       "      <td>{'neg': 0.0, 'neu': 0.642, 'pos': 0.358, 'comp...</td>\n",
       "    </tr>\n",
       "    <tr>\n",
       "      <th>2</th>\n",
       "      <td>4 of the vaccines Jared bought are expected to...</td>\n",
       "      <td>True</td>\n",
       "      <td>en</td>\n",
       "      <td>4 vaccines Jared bought expected fail Trump re...</td>\n",
       "      <td>18</td>\n",
       "      <td>96</td>\n",
       "      <td>2</td>\n",
       "      <td>5.333333</td>\n",
       "      <td>9.0</td>\n",
       "      <td>{'neg': 0.169, 'neu': 0.725, 'pos': 0.106, 'co...</td>\n",
       "    </tr>\n",
       "    <tr>\n",
       "      <th>3</th>\n",
       "      <td>One day you will realize CDC Guidelines magica...</td>\n",
       "      <td>False</td>\n",
       "      <td>en</td>\n",
       "      <td>One day realize CDC Guidelines magically align...</td>\n",
       "      <td>13</td>\n",
       "      <td>74</td>\n",
       "      <td>1</td>\n",
       "      <td>5.692308</td>\n",
       "      <td>13.0</td>\n",
       "      <td>{'neg': 0.0, 'neu': 1.0, 'pos': 0.0, 'compound...</td>\n",
       "    </tr>\n",
       "    <tr>\n",
       "      <th>4</th>\n",
       "      <td>Im far from lying.  Current CDC guidelines is ...</td>\n",
       "      <td>True</td>\n",
       "      <td>en</td>\n",
       "      <td>Im far lying. Current CDC guidelines wearing m...</td>\n",
       "      <td>21</td>\n",
       "      <td>93</td>\n",
       "      <td>3</td>\n",
       "      <td>4.428571</td>\n",
       "      <td>7.0</td>\n",
       "      <td>{'neg': 0.277, 'neu': 0.723, 'pos': 0.0, 'comp...</td>\n",
       "    </tr>\n",
       "  </tbody>\n",
       "</table>\n",
       "</div>"
      ],
      "text/plain": [
       "                                                text  label lang  \\\n",
       "0  Putin After Announcing #CovidVaccine #Russian ...   True   en   \n",
       "1  Courtesy: WA! #WhatsApp #COVID #CovidVaccine h...   True   en   \n",
       "2  4 of the vaccines Jared bought are expected to...   True   en   \n",
       "3  One day you will realize CDC Guidelines magica...  False   en   \n",
       "4  Im far from lying.  Current CDC guidelines is ...   True   en   \n",
       "\n",
       "                                          text_clean  word_count  char_count  \\\n",
       "0  Putin After Announcing #CovidVaccine #Russian ...           6          64   \n",
       "1  Courtesy: WA! #WhatsApp #COVID #CovidVaccine h...           6          63   \n",
       "2  4 vaccines Jared bought expected fail Trump re...          18          96   \n",
       "3  One day realize CDC Guidelines magically align...          13          74   \n",
       "4  Im far lying. Current CDC guidelines wearing m...          21          93   \n",
       "\n",
       "   sentence_count  avg_word_length  avg_sen_len  \\\n",
       "0               2        10.666667          3.0   \n",
       "1               2        10.500000          3.0   \n",
       "2               2         5.333333          9.0   \n",
       "3               1         5.692308         13.0   \n",
       "4               3         4.428571          7.0   \n",
       "\n",
       "                                              scores  \n",
       "0  {'neg': 0.0, 'neu': 1.0, 'pos': 0.0, 'compound...  \n",
       "1  {'neg': 0.0, 'neu': 0.642, 'pos': 0.358, 'comp...  \n",
       "2  {'neg': 0.169, 'neu': 0.725, 'pos': 0.106, 'co...  \n",
       "3  {'neg': 0.0, 'neu': 1.0, 'pos': 0.0, 'compound...  \n",
       "4  {'neg': 0.277, 'neu': 0.723, 'pos': 0.0, 'comp...  "
      ]
     },
     "execution_count": 30,
     "metadata": {},
     "output_type": "execute_result"
    }
   ],
   "source": [
    "df[\"scores\"] = df[\"text\"].apply(lambda x : sd.polarity_scores(x))\n",
    "df.head()"
   ]
  },
  {
   "cell_type": "code",
   "execution_count": 31,
   "metadata": {},
   "outputs": [
    {
     "data": {
      "text/plain": [
       "0       {'neg': 0.0, 'neu': 1.0, 'pos': 0.0, 'compound...\n",
       "1       {'neg': 0.0, 'neu': 0.642, 'pos': 0.358, 'comp...\n",
       "2       {'neg': 0.169, 'neu': 0.725, 'pos': 0.106, 'co...\n",
       "3       {'neg': 0.0, 'neu': 1.0, 'pos': 0.0, 'compound...\n",
       "4       {'neg': 0.277, 'neu': 0.723, 'pos': 0.0, 'comp...\n",
       "                              ...                        \n",
       "1195    {'neg': 0.0, 'neu': 1.0, 'pos': 0.0, 'compound...\n",
       "1196    {'neg': 0.102, 'neu': 0.784, 'pos': 0.114, 'co...\n",
       "1197    {'neg': 0.0, 'neu': 1.0, 'pos': 0.0, 'compound...\n",
       "1198    {'neg': 0.0, 'neu': 1.0, 'pos': 0.0, 'compound...\n",
       "1199    {'neg': 0.138, 'neu': 0.582, 'pos': 0.28, 'com...\n",
       "Name: scores, Length: 1200, dtype: object"
      ]
     },
     "execution_count": 31,
     "metadata": {},
     "output_type": "execute_result"
    }
   ],
   "source": [
    "df['scores']"
   ]
  },
  {
   "cell_type": "code",
   "execution_count": 32,
   "metadata": {
    "id": "wqXLHk65f9-P"
   },
   "outputs": [],
   "source": [
    "df[\"compund_scores\"] = df[\"scores\"].apply(lambda score_dict: score_dict[\"compound\"])"
   ]
  },
  {
   "cell_type": "code",
   "execution_count": 33,
   "metadata": {
    "id": "xg6XP7RtWMRx"
   },
   "outputs": [],
   "source": [
    "df['compound'] = df['compund_scores'].apply(lambda c: 'pos' if c >=0.05 else 'neg')"
   ]
  },
  {
   "cell_type": "code",
   "execution_count": 34,
   "metadata": {
    "id": "zLgPA1aCggG5"
   },
   "outputs": [],
   "source": [
    "colu = [\"scores\", \"compund_scores\"]\n",
    "df = df.drop(colu, axis = 1)"
   ]
  },
  {
   "cell_type": "code",
   "execution_count": 35,
   "metadata": {},
   "outputs": [
    {
     "data": {
      "text/html": [
       "<div>\n",
       "<style scoped>\n",
       "    .dataframe tbody tr th:only-of-type {\n",
       "        vertical-align: middle;\n",
       "    }\n",
       "\n",
       "    .dataframe tbody tr th {\n",
       "        vertical-align: top;\n",
       "    }\n",
       "\n",
       "    .dataframe thead th {\n",
       "        text-align: right;\n",
       "    }\n",
       "</style>\n",
       "<table border=\"1\" class=\"dataframe\">\n",
       "  <thead>\n",
       "    <tr style=\"text-align: right;\">\n",
       "      <th></th>\n",
       "      <th>text</th>\n",
       "      <th>label</th>\n",
       "      <th>lang</th>\n",
       "      <th>text_clean</th>\n",
       "      <th>word_count</th>\n",
       "      <th>char_count</th>\n",
       "      <th>sentence_count</th>\n",
       "      <th>avg_word_length</th>\n",
       "      <th>avg_sen_len</th>\n",
       "      <th>compound</th>\n",
       "    </tr>\n",
       "  </thead>\n",
       "  <tbody>\n",
       "    <tr>\n",
       "      <th>0</th>\n",
       "      <td>Putin After Announcing #CovidVaccine #Russian ...</td>\n",
       "      <td>True</td>\n",
       "      <td>en</td>\n",
       "      <td>Putin After Announcing #CovidVaccine #Russian ...</td>\n",
       "      <td>6</td>\n",
       "      <td>64</td>\n",
       "      <td>2</td>\n",
       "      <td>10.666667</td>\n",
       "      <td>3.000000</td>\n",
       "      <td>neg</td>\n",
       "    </tr>\n",
       "    <tr>\n",
       "      <th>1</th>\n",
       "      <td>Courtesy: WA! #WhatsApp #COVID #CovidVaccine h...</td>\n",
       "      <td>True</td>\n",
       "      <td>en</td>\n",
       "      <td>Courtesy: WA! #WhatsApp #COVID #CovidVaccine h...</td>\n",
       "      <td>6</td>\n",
       "      <td>63</td>\n",
       "      <td>2</td>\n",
       "      <td>10.500000</td>\n",
       "      <td>3.000000</td>\n",
       "      <td>pos</td>\n",
       "    </tr>\n",
       "    <tr>\n",
       "      <th>2</th>\n",
       "      <td>4 of the vaccines Jared bought are expected to...</td>\n",
       "      <td>True</td>\n",
       "      <td>en</td>\n",
       "      <td>4 vaccines Jared bought expected fail Trump re...</td>\n",
       "      <td>18</td>\n",
       "      <td>96</td>\n",
       "      <td>2</td>\n",
       "      <td>5.333333</td>\n",
       "      <td>9.000000</td>\n",
       "      <td>neg</td>\n",
       "    </tr>\n",
       "    <tr>\n",
       "      <th>3</th>\n",
       "      <td>One day you will realize CDC Guidelines magica...</td>\n",
       "      <td>False</td>\n",
       "      <td>en</td>\n",
       "      <td>One day realize CDC Guidelines magically align...</td>\n",
       "      <td>13</td>\n",
       "      <td>74</td>\n",
       "      <td>1</td>\n",
       "      <td>5.692308</td>\n",
       "      <td>13.000000</td>\n",
       "      <td>neg</td>\n",
       "    </tr>\n",
       "    <tr>\n",
       "      <th>4</th>\n",
       "      <td>Im far from lying.  Current CDC guidelines is ...</td>\n",
       "      <td>True</td>\n",
       "      <td>en</td>\n",
       "      <td>Im far lying. Current CDC guidelines wearing m...</td>\n",
       "      <td>21</td>\n",
       "      <td>93</td>\n",
       "      <td>3</td>\n",
       "      <td>4.428571</td>\n",
       "      <td>7.000000</td>\n",
       "      <td>neg</td>\n",
       "    </tr>\n",
       "    <tr>\n",
       "      <th>...</th>\n",
       "      <td>...</td>\n",
       "      <td>...</td>\n",
       "      <td>...</td>\n",
       "      <td>...</td>\n",
       "      <td>...</td>\n",
       "      <td>...</td>\n",
       "      <td>...</td>\n",
       "      <td>...</td>\n",
       "      <td>...</td>\n",
       "      <td>...</td>\n",
       "    </tr>\n",
       "    <tr>\n",
       "      <th>1195</th>\n",
       "      <td>.Sprint To Develop A #COVIDVaccine – // https:...</td>\n",
       "      <td>True</td>\n",
       "      <td>en</td>\n",
       "      <td>.Sprint To Develop A #COVIDVaccine – // https:...</td>\n",
       "      <td>8</td>\n",
       "      <td>56</td>\n",
       "      <td>3</td>\n",
       "      <td>7.000000</td>\n",
       "      <td>2.666667</td>\n",
       "      <td>neg</td>\n",
       "    </tr>\n",
       "    <tr>\n",
       "      <th>1196</th>\n",
       "      <td>Here in the U.S. some localities have brought ...</td>\n",
       "      <td>False</td>\n",
       "      <td>en</td>\n",
       "      <td>Here U.S. localities brought back mask mandate...</td>\n",
       "      <td>41</td>\n",
       "      <td>233</td>\n",
       "      <td>7</td>\n",
       "      <td>5.682927</td>\n",
       "      <td>5.857143</td>\n",
       "      <td>pos</td>\n",
       "    </tr>\n",
       "    <tr>\n",
       "      <th>1197</th>\n",
       "      <td>Sanitizer &amp;amp; Mask Manufacturers After Russi...</td>\n",
       "      <td>True</td>\n",
       "      <td>en</td>\n",
       "      <td>Sanitizer &amp;amp; Mask Manufacturers After Russi...</td>\n",
       "      <td>11</td>\n",
       "      <td>125</td>\n",
       "      <td>6</td>\n",
       "      <td>11.363636</td>\n",
       "      <td>1.833333</td>\n",
       "      <td>neg</td>\n",
       "    </tr>\n",
       "    <tr>\n",
       "      <th>1198</th>\n",
       "      <td>We are following all CDC guidelines through a ...</td>\n",
       "      <td>False</td>\n",
       "      <td>en</td>\n",
       "      <td>We following CDC guidelines combination regula...</td>\n",
       "      <td>24</td>\n",
       "      <td>150</td>\n",
       "      <td>2</td>\n",
       "      <td>6.250000</td>\n",
       "      <td>12.000000</td>\n",
       "      <td>neg</td>\n",
       "    </tr>\n",
       "    <tr>\n",
       "      <th>1199</th>\n",
       "      <td>People be losing hopes on covid vaccine like i...</td>\n",
       "      <td>True</td>\n",
       "      <td>en</td>\n",
       "      <td>People losing hopes covid vaccine like 4g kash...</td>\n",
       "      <td>14</td>\n",
       "      <td>81</td>\n",
       "      <td>2</td>\n",
       "      <td>5.785714</td>\n",
       "      <td>7.000000</td>\n",
       "      <td>pos</td>\n",
       "    </tr>\n",
       "  </tbody>\n",
       "</table>\n",
       "<p>1200 rows × 10 columns</p>\n",
       "</div>"
      ],
      "text/plain": [
       "                                                   text  label lang  \\\n",
       "0     Putin After Announcing #CovidVaccine #Russian ...   True   en   \n",
       "1     Courtesy: WA! #WhatsApp #COVID #CovidVaccine h...   True   en   \n",
       "2     4 of the vaccines Jared bought are expected to...   True   en   \n",
       "3     One day you will realize CDC Guidelines magica...  False   en   \n",
       "4     Im far from lying.  Current CDC guidelines is ...   True   en   \n",
       "...                                                 ...    ...  ...   \n",
       "1195  .Sprint To Develop A #COVIDVaccine – // https:...   True   en   \n",
       "1196  Here in the U.S. some localities have brought ...  False   en   \n",
       "1197  Sanitizer &amp; Mask Manufacturers After Russi...   True   en   \n",
       "1198  We are following all CDC guidelines through a ...  False   en   \n",
       "1199  People be losing hopes on covid vaccine like i...   True   en   \n",
       "\n",
       "                                             text_clean  word_count  \\\n",
       "0     Putin After Announcing #CovidVaccine #Russian ...           6   \n",
       "1     Courtesy: WA! #WhatsApp #COVID #CovidVaccine h...           6   \n",
       "2     4 vaccines Jared bought expected fail Trump re...          18   \n",
       "3     One day realize CDC Guidelines magically align...          13   \n",
       "4     Im far lying. Current CDC guidelines wearing m...          21   \n",
       "...                                                 ...         ...   \n",
       "1195  .Sprint To Develop A #COVIDVaccine – // https:...           8   \n",
       "1196  Here U.S. localities brought back mask mandate...          41   \n",
       "1197  Sanitizer &amp; Mask Manufacturers After Russi...          11   \n",
       "1198  We following CDC guidelines combination regula...          24   \n",
       "1199  People losing hopes covid vaccine like 4g kash...          14   \n",
       "\n",
       "      char_count  sentence_count  avg_word_length  avg_sen_len compound  \n",
       "0             64               2        10.666667     3.000000      neg  \n",
       "1             63               2        10.500000     3.000000      pos  \n",
       "2             96               2         5.333333     9.000000      neg  \n",
       "3             74               1         5.692308    13.000000      neg  \n",
       "4             93               3         4.428571     7.000000      neg  \n",
       "...          ...             ...              ...          ...      ...  \n",
       "1195          56               3         7.000000     2.666667      neg  \n",
       "1196         233               7         5.682927     5.857143      pos  \n",
       "1197         125               6        11.363636     1.833333      neg  \n",
       "1198         150               2         6.250000    12.000000      neg  \n",
       "1199          81               2         5.785714     7.000000      pos  \n",
       "\n",
       "[1200 rows x 10 columns]"
      ]
     },
     "execution_count": 35,
     "metadata": {},
     "output_type": "execute_result"
    }
   ],
   "source": [
    "df"
   ]
  },
  {
   "cell_type": "code",
   "execution_count": 36,
   "metadata": {
    "id": "UfSQa8lWrBny"
   },
   "outputs": [],
   "source": [
    "X = df.iloc[:,2:]\n",
    "y = df.iloc[:,1]"
   ]
  },
  {
   "cell_type": "code",
   "execution_count": 37,
   "metadata": {
    "colab": {
     "base_uri": "https://localhost:8080/"
    },
    "id": "sqzDsr_YrCQk",
    "outputId": "d3e1f4be-5ee4-456c-a9c9-e74c2f1995bb"
   },
   "outputs": [
    {
     "name": "stdout",
     "output_type": "stream",
     "text": [
      "(1200, 8) (1200,)\n"
     ]
    }
   ],
   "source": [
    "print(X.shape, y.shape)"
   ]
  },
  {
   "cell_type": "code",
   "execution_count": 38,
   "metadata": {
    "id": "7h0BWADNYpgD"
   },
   "outputs": [],
   "source": [
    "X_dummy = pd.get_dummies(df.compound, prefix=\"Sentiment\",drop_first=True)\n",
    "X = X.drop(\"compound\",axis=1)\n",
    "X = X.join(X_dummy)"
   ]
  },
  {
   "cell_type": "code",
   "execution_count": 39,
   "metadata": {},
   "outputs": [],
   "source": [
    "X['lang'] = X['lang'].apply(lambda c: 1 if c == 'en' else 0)"
   ]
  },
  {
   "cell_type": "code",
   "execution_count": 40,
   "metadata": {
    "id": "gaVn18Nk8WzO"
   },
   "outputs": [],
   "source": [
    "x_train, x_test, y_train, y_test = train_test_split(X, y, test_size=0.2)"
   ]
  },
  {
   "cell_type": "code",
   "execution_count": 41,
   "metadata": {
    "id": "3PinfjMpsxev"
   },
   "outputs": [],
   "source": [
    "tfidf = TfidfVectorizer()\n",
    "x_train_tf= tfidf.fit_transform(x_train[\"text_clean\"]).toarray()"
   ]
  },
  {
   "cell_type": "code",
   "execution_count": 42,
   "metadata": {
    "id": "4P07Yx8AABNJ"
   },
   "outputs": [],
   "source": [
    "x_test_tf = tfidf.transform(x_test).toarray()"
   ]
  },
  {
   "cell_type": "code",
   "execution_count": 43,
   "metadata": {
    "id": "wLaU1SapAxGa"
   },
   "outputs": [],
   "source": [
    "x_train = x_train.drop(\"text_clean\", axis=1)\n",
    "x_test = x_test.drop(\"text_clean\",axis=1)"
   ]
  },
  {
   "cell_type": "code",
   "execution_count": 44,
   "metadata": {
    "id": "u1XkNUzjDknG"
   },
   "outputs": [],
   "source": [
    "x_train.reset_index(inplace=True)\n",
    "x_test.reset_index(inplace=True)"
   ]
  },
  {
   "cell_type": "code",
   "execution_count": 45,
   "metadata": {
    "id": "eJsPAZCUE0co"
   },
   "outputs": [],
   "source": [
    "x_train = x_train.drop(\"index\",axis=1)"
   ]
  },
  {
   "cell_type": "code",
   "execution_count": 46,
   "metadata": {
    "id": "C153vj-fFaXO"
   },
   "outputs": [],
   "source": [
    "x_test = x_test.drop(\"index\",axis=1)"
   ]
  },
  {
   "cell_type": "code",
   "execution_count": 47,
   "metadata": {
    "id": "xEmRvbyeD0-v"
   },
   "outputs": [],
   "source": [
    "x_train_tf = pd.DataFrame(x_train_tf)\n",
    "x_test_tf = pd.DataFrame(x_test_tf)"
   ]
  },
  {
   "cell_type": "code",
   "execution_count": 48,
   "metadata": {
    "id": "EbgqQQySBQgc"
   },
   "outputs": [],
   "source": [
    "x_train = x_train.join(x_train_tf)"
   ]
  },
  {
   "cell_type": "code",
   "execution_count": 49,
   "metadata": {
    "id": "O__pB3wSDMaW"
   },
   "outputs": [],
   "source": [
    "x_test = x_test.join(x_test_tf)"
   ]
  },
  {
   "cell_type": "code",
   "execution_count": 50,
   "metadata": {
    "id": "tKNLCW_uHZ7G"
   },
   "outputs": [],
   "source": [
    "xgb = XGBClassifier()\n",
    "model = xgb.fit(x_train, y_train)"
   ]
  },
  {
   "cell_type": "code",
   "execution_count": 51,
   "metadata": {
    "id": "g9lXc0xvHmR0"
   },
   "outputs": [],
   "source": [
    "pred = model.predict(x_test)"
   ]
  },
  {
   "cell_type": "code",
   "execution_count": 52,
   "metadata": {
    "colab": {
     "base_uri": "https://localhost:8080/"
    },
    "id": "Q7AFwvNbH1HG",
    "outputId": "981ea443-fd88-4deb-c2f6-004e99aeb3ae"
   },
   "outputs": [
    {
     "name": "stdout",
     "output_type": "stream",
     "text": [
      "Accuracy is:  0.4583333333333333\n"
     ]
    }
   ],
   "source": [
    "print(\"Accuracy is: \", accuracy_score(y_test, pred))"
   ]
  },
  {
   "cell_type": "code",
   "execution_count": 53,
   "metadata": {
    "colab": {
     "base_uri": "https://localhost:8080/"
    },
    "id": "yDfSJhGhKe_L",
    "outputId": "7daff132-a4e9-4cb8-d985-ad9a6f450201"
   },
   "outputs": [
    {
     "name": "stdout",
     "output_type": "stream",
     "text": [
      "Classification Report               precision    recall  f1-score   support\n",
      "\n",
      "       False       0.45      0.99      0.62       108\n",
      "        True       0.75      0.02      0.04       132\n",
      "\n",
      "    accuracy                           0.46       240\n",
      "   macro avg       0.60      0.51      0.33       240\n",
      "weighted avg       0.62      0.46      0.30       240\n",
      "\n"
     ]
    }
   ],
   "source": [
    "print(\"Classification Report\", classification_report(y_test, pred))"
   ]
  },
  {
   "cell_type": "code",
   "execution_count": 54,
   "metadata": {
    "colab": {
     "base_uri": "https://localhost:8080/"
    },
    "id": "Wbl8as3oIYJJ",
    "outputId": "6f17e001-f6fb-4823-a659-91a910abb820"
   },
   "outputs": [
    {
     "name": "stderr",
     "output_type": "stream",
     "text": [
      "/Users/pinakinnimavat/miniforge3/lib/python3.9/site-packages/sklearn/utils/validation.py:1858: FutureWarning: Feature names only support names that are all strings. Got feature names with dtypes: ['int', 'str']. An error will be raised in 1.2.\n",
      "  warnings.warn(\n"
     ]
    },
    {
     "name": "stdout",
     "output_type": "stream",
     "text": [
      "Accuracy is:  0.4583333333333333\n",
      "Classification Report is:                precision    recall  f1-score   support\n",
      "\n",
      "       False       0.45      0.99      0.62       108\n",
      "        True       0.75      0.02      0.04       132\n",
      "\n",
      "    accuracy                           0.46       240\n",
      "   macro avg       0.60      0.51      0.33       240\n",
      "weighted avg       0.62      0.46      0.30       240\n",
      "\n"
     ]
    }
   ],
   "source": [
    "gbc = GradientBoostingClassifier()\n",
    "model1 = gbc.fit(x_train,y_train)\n",
    "pred_1 = model.predict(x_test)\n",
    "print(\"Accuracy is: \", accuracy_score(y_test,pred_1))\n",
    "print(\"Classification Report is: \",classification_report(y_test,pred_1))"
   ]
  }
 ],
 "metadata": {
  "colab": {
   "collapsed_sections": [
    "Ax7XQ_QPKGdF",
    "HY_D-WQhQmDp",
    "4yUtAMzYJ7ZV",
    "2Ohv531oT2_i"
   ],
   "name": "Phase 3.ipynb",
   "provenance": []
  },
  "kernelspec": {
   "display_name": "Python 3 (ipykernel)",
   "language": "python",
   "name": "python3"
  },
  "language_info": {
   "codemirror_mode": {
    "name": "ipython",
    "version": 3
   },
   "file_extension": ".py",
   "mimetype": "text/x-python",
   "name": "python",
   "nbconvert_exporter": "python",
   "pygments_lexer": "ipython3",
   "version": "3.9.10"
  }
 },
 "nbformat": 4,
 "nbformat_minor": 1
}
